{
 "cells": [
  {
   "cell_type": "markdown",
   "id": "d6499824",
   "metadata": {},
   "source": [
    "### Union-Find \n",
    "\n",
    "- Union: merge data, connect two objects\n",
    "- Find : find top node or parent)\n",
    "---\n",
    "### Union\n",
    "- Find each root or parent b/c we have merge two set not two nodes\n",
    "- Compare the parent of a and b\n",
    "- If a and b have different parent: merge / same parent: a and b are already in a same set\n",
    "\n",
    "---\n",
    "### Find\n",
    "- Repeat until parent is found  \n",
    "- Recursive form: find(a) > find(b) > find(c)\n",
    "\n",
    "--- \n",
    "### Initialize \n",
    "- Let all nodes point themselves\n",
    "- After collecting the data, only parent points to itself\n",
    "---\n",
    "### Path compression\n",
    "- Time complex of find() is the depth of tree not the number of tree\n",
    "\n",
    "- Version 1: No optimization\n",
    "- Version 2: Compare the depth\n",
    "- Version 3: Make all node only point its parent node (horizontal alignment)"
   ]
  },
  {
   "cell_type": "code",
   "execution_count": 5,
   "id": "3437e271",
   "metadata": {},
   "outputs": [
    {
     "data": {
      "text/plain": [
       "'\\n# path compression version 2\\n\\ndepth = [0 for i in range(n+1)]\\n\\ndef union(a,b):\\n    a = find(a)\\n    b = find(b)\\n    \\n    if a != b:\\n        if depth[a] > depth[b]:\\n            swap(a,b)\\n            \\n        par[a] = b\\n        \\n        if depth[a] == depth[b]:\\n            depth[b] += 1 \\n\\ndef find(x): \\n    if parent[x] == x:\\n        return x\\n        \\n    return find(parent[x])\\n'"
      ]
     },
     "execution_count": 5,
     "metadata": {},
     "output_type": "execute_result"
    }
   ],
   "source": [
    "\"\"\"\n",
    "# path compression version 2\n",
    "\n",
    "depth = [0 for i in range(n+1)]\n",
    "\n",
    "def union(a,b):\n",
    "    a = find(a)\n",
    "    b = find(b)\n",
    "    \n",
    "    if a != b:\n",
    "        if depth[a] > depth[b]:\n",
    "            swap(a,b)\n",
    "            \n",
    "        par[a] = b\n",
    "        \n",
    "        if depth[a] == depth[b]:\n",
    "            depth[b] += 1 \n",
    "\n",
    "def find(x): \n",
    "    if parent[x] == x:\n",
    "        return x\n",
    "        \n",
    "    return find(parent[x])\n",
    "\"\"\""
   ]
  },
  {
   "cell_type": "code",
   "execution_count": 1,
   "id": "a10ab810",
   "metadata": {},
   "outputs": [
    {
     "name": "stdout",
     "output_type": "stream",
     "text": [
      "7 8\n",
      "0 1 3\n",
      "1 1 7\n",
      "NO\n",
      "0 7 6\n",
      "1 7 1\n",
      "NO\n",
      "0 3 7\n",
      "0 4 2\n",
      "0 1 1\n",
      "1 1 1\n",
      "YES\n"
     ]
    }
   ],
   "source": [
    "# version 3\n",
    "\n",
    "import sys\n",
    "\n",
    "sys.setrecursionlimit(10**5)\n",
    "\n",
    "n, m = map(int, input().split())  # n = number of node \n",
    "par = [i for i in range(n+1)]     # Initialize 1\n",
    "\n",
    "def union(a, b):\n",
    "    a = find(a) # Union 1\n",
    "    b = find(b) # Union 1\n",
    "                \n",
    "    if a != b:  # Union 3\n",
    "        par[a] = b\n",
    "\n",
    "def find(x):\n",
    "    if par[x] == x:\n",
    "        return x\n",
    "\n",
    "    par[x] = find(par[x]) # path compression\n",
    "    return par[x]\n",
    "\n",
    "for _ in range(m):\n",
    "    q, a, b = map(int, input().split())\n",
    "    if q == 0:\n",
    "        union(a, b)\n",
    "    else:\n",
    "        print('YES' if find(a) == find(b) else 'NO')"
   ]
  }
 ],
 "metadata": {
  "kernelspec": {
   "display_name": "Python 3 (ipykernel)",
   "language": "python",
   "name": "python3"
  },
  "language_info": {
   "codemirror_mode": {
    "name": "ipython",
    "version": 3
   },
   "file_extension": ".py",
   "mimetype": "text/x-python",
   "name": "python",
   "nbconvert_exporter": "python",
   "pygments_lexer": "ipython3",
   "version": "3.9.7"
  }
 },
 "nbformat": 4,
 "nbformat_minor": 5
}
