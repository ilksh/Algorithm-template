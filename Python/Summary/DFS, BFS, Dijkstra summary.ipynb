{
 "cells": [
  {
   "cell_type": "markdown",
   "id": "5e61f30d",
   "metadata": {},
   "source": [
    "### BFS, DFS (common part)\n",
    "---\n",
    "#### 1. adjacency confirmation\n",
    "- adjacency list\n",
    "- use dictionary \n",
    "    - key: node, value = list\n",
    "    - adj = {node1: [other nodes that connected to node2]}\n",
    "    - key = immutable, value = mutable\n",
    "---\n",
    "#### A. initialize dictionary \n",
    "- all nodes are assigned to the key value\n",
    "- the empty list is assigned to value\n",
    "    - in the initial state, there's no connected node\n",
    "    - to append connected node to the value, empty list is needed\n",
    "---\n",
    "#### B. adjacency information update\n",
    "- node1: [data of other nodes connected to node1]\n",
    "- adj[node1].append(data)"
   ]
  },
  {
   "cell_type": "code",
   "execution_count": 1,
   "id": "aaf50b56",
   "metadata": {},
   "outputs": [
    {
     "data": {
      "text/plain": [
       "{1: [], 2: [], 3: [], 4: [], 5: [], 6: [], 7: [], 8: [], 9: [], 10: []}"
      ]
     },
     "execution_count": 1,
     "metadata": {},
     "output_type": "execute_result"
    }
   ],
   "source": [
    "# 1.A\n",
    "adj = {}\n",
    "for i in range(10):\n",
    "    adj[i+1] = []\n",
    "\n",
    "adj"
   ]
  },
  {
   "cell_type": "code",
   "execution_count": 2,
   "id": "ee19a968",
   "metadata": {},
   "outputs": [
    {
     "data": {
      "text/plain": [
       "{1: [2, 6, 7, 9],\n",
       " 2: [3, 4],\n",
       " 3: [],\n",
       " 4: [],\n",
       " 5: [],\n",
       " 6: [],\n",
       " 7: [],\n",
       " 8: [],\n",
       " 9: [],\n",
       " 10: []}"
      ]
     },
     "execution_count": 2,
     "metadata": {},
     "output_type": "execute_result"
    }
   ],
   "source": [
    "# 1.B\n",
    "adj[1].append(2)\n",
    "adj[1].append(6)\n",
    "adj[1].append(7)\n",
    "adj[1].append(9)\n",
    "\n",
    "adj[2].append(3)\n",
    "adj[2].append(4)\n",
    "\n",
    "adj"
   ]
  },
  {
   "cell_type": "markdown",
   "id": "d5ed5c07",
   "metadata": {},
   "source": [
    "---\n",
    "#### 2. visited array\n",
    "- avoid visiting node which is already visited\n",
    "- bool type array (True, False)\n",
    "---\n",
    "- A. Initialize \n",
    "    - initial value = False\n",
    "    - False = never visited\n",
    "---\n",
    "- B. Info update\n",
    "    - if visited the node, convert to True\n",
    "    - visited[node] = True"
   ]
  },
  {
   "cell_type": "code",
   "execution_count": 3,
   "id": "14055085",
   "metadata": {},
   "outputs": [
    {
     "data": {
      "text/plain": [
       "[False, False, False, False, False, False, False, False, False, False, False]"
      ]
     },
     "execution_count": 3,
     "metadata": {},
     "output_type": "execute_result"
    }
   ],
   "source": [
    "visited = [False for _ in range(11)]\n",
    "\n",
    "visited"
   ]
  },
  {
   "cell_type": "markdown",
   "id": "6c3f0324",
   "metadata": {},
   "source": [
    "---\n",
    "#### 3. Search"
   ]
  },
  {
   "cell_type": "markdown",
   "id": "6c8a0bc6",
   "metadata": {},
   "source": [
    "---\n",
    "- DFS (Depth First Search)\n",
    "    - start from one node, and search for other nodes as deep as possible\n",
    "    - after visiting the adjacent node\n",
    "    - implement the situation of visiting the node adjacent to the node and not visited \n",
    "    - using the recursive function\n",
    "        - Step 1) visit node \n",
    "        - Step 2) visit node which is adjacent to currelty visited node and not visited\n",
    "        - Step 3) search again based on the adjacent node\n",
    "---"
   ]
  },
  {
   "cell_type": "code",
   "execution_count": 4,
   "id": "496c57a0",
   "metadata": {},
   "outputs": [],
   "source": [
    "# with comment\n",
    "  \n",
    "def dfs(cur_node):\n",
    "    global adj, visited\n",
    "    \n",
    "    # 2.B \n",
    "    visited[cur_node] = True     \n",
    "    \n",
    "    # Step 1 (visit current node)\n",
    "    ans.append(cur_node)        \n",
    "    \n",
    "    # Step 2 (visit adjacent node)\n",
    "    for elem in adj[cur_node]:\n",
    "        if not visited[elem]:\n",
    "            # Step 3 (searching based on new node)\n",
    "            dfs(elem)"
   ]
  },
  {
   "cell_type": "code",
   "execution_count": 5,
   "id": "5f61a340",
   "metadata": {},
   "outputs": [],
   "source": [
    "def dfs(cur_node):\n",
    "    global adj, visited\n",
    "    \n",
    "    visited[cur_node] = True     \n",
    "    ans.append(cur_node)        \n",
    "    \n",
    "    for elem in adj[cur_node]:\n",
    "        if not visited[elem]: \n",
    "            dfs(elem) "
   ]
  },
  {
   "cell_type": "markdown",
   "id": "46a223e6",
   "metadata": {},
   "source": [
    "---\n",
    "- BFS (Breath First Search)\n",
    "    - start from one node, search all nodes which adjacent to the node\n",
    "    - implement with Queue\n",
    "        - Step 1) Insert all nodes, which is adjacent to current node and not visited, to queue\n",
    "        - Step 2) Visit nodes in order inserted into the queue (FIFO)\n",
    "        - Step 3) Repeat Step 2 until there is no data in the Queue = Visit all adjacent nodes\n",
    "---"
   ]
  },
  {
   "cell_type": "code",
   "execution_count": 6,
   "id": "0e1685c0",
   "metadata": {},
   "outputs": [],
   "source": [
    "# with comment\n",
    "\n",
    "def bfs(num):\n",
    "    global adj, q, ans, visited\n",
    "    \n",
    "    q.append(num)\n",
    "    \n",
    "    # Step 3\n",
    "    while len(q) > 0:\n",
    "        # Step 2 \n",
    "        cur = q.popleft()\n",
    "        \n",
    "        if not visited[cur]:\n",
    "            ans.append(cur)\n",
    "        \n",
    "        visited[cur] = True\n",
    "\n",
    "        if cur not in adj.keys():\n",
    "            continue\n",
    "        \n",
    "        # Step 1\n",
    "        for elem in adj[cur]:\n",
    "            if not visited[elem]:\n",
    "                q.append(elem)"
   ]
  },
  {
   "cell_type": "code",
   "execution_count": 7,
   "id": "f9d2e8bc",
   "metadata": {},
   "outputs": [],
   "source": [
    "def bfs(num):\n",
    "    global adj, q, ans, visited\n",
    "\n",
    "    q.append(num)\n",
    "\n",
    "    while len(q) > 0:\n",
    "        cur = q.popleft()\n",
    "        \n",
    "        if not visited[cur]:\n",
    "            ans.append(cur)\n",
    "        \n",
    "        visited[cur] = True\n",
    "\n",
    "        if cur not in adj.keys():\n",
    "            continue\n",
    "\n",
    "        for elem in adj[cur]:\n",
    "            if not visited[elem]:\n",
    "                q.append(elem)"
   ]
  },
  {
   "cell_type": "markdown",
   "id": "07825351",
   "metadata": {},
   "source": [
    "---\n",
    "# DFS"
   ]
  },
  {
   "cell_type": "code",
   "execution_count": 8,
   "id": "f098adda",
   "metadata": {},
   "outputs": [
    {
     "name": "stdout",
     "output_type": "stream",
     "text": [
      "====dfs====\n",
      "1-> 2-> 3-> 4-> 5-> 6-> 7-> 8-> 9-> "
     ]
    }
   ],
   "source": [
    "from collections import deque\n",
    "\n",
    "\n",
    "def adj_check(node1, node2):\n",
    "    global adj\n",
    "    \n",
    "    # 1.B\n",
    "    adj[node1].append(node2)\n",
    "    \n",
    "    return\n",
    "\n",
    "def dfs(cur_node):\n",
    "    global adj, visited\n",
    "\n",
    "    visited[cur_node] = True     \n",
    "    \n",
    "    ans.append(cur_node)        \n",
    "    \n",
    "    for elem in adj[cur_node]:\n",
    "        if not visited[elem]:\n",
    "            dfs(elem)            \n",
    "            \n",
    "    return\n",
    "    \n",
    "def ans_print():\n",
    "    global ans\n",
    "\n",
    "    while ans:\n",
    "        print(\"{}->\".format(ans.popleft()), end= \" \")\n",
    "        \n",
    "    return\n",
    "\n",
    "\n",
    "if __name__ == '__main__':\n",
    "    visited = [False for _ in range(11)]    # 2.A\n",
    "    adj = {}\n",
    "    ans = deque()\n",
    "    \n",
    "    for i in range(11):\n",
    "        adj[i+1] = []\n",
    "        \n",
    "    adj_check(1,2)\n",
    "    adj_check(1,6)\n",
    "    adj_check(1,7)\n",
    "    adj_check(1,9)\n",
    "    \n",
    "    adj_check(2, 3)\n",
    "    adj_check(2, 4)\n",
    "    \n",
    "    adj_check(6, 4)\n",
    "    adj_check(4, 5)\n",
    "    \n",
    "    adj_check(7, 8)\n",
    "    \n",
    "    print(\"====dfs====\")\n",
    "    dfs(1)\n",
    "    ans_print()"
   ]
  },
  {
   "cell_type": "markdown",
   "id": "effc09c0",
   "metadata": {},
   "source": [
    "---\n",
    "# BFS"
   ]
  },
  {
   "cell_type": "code",
   "execution_count": 10,
   "id": "69e9c799",
   "metadata": {},
   "outputs": [
    {
     "name": "stdout",
     "output_type": "stream",
     "text": [
      "====bfs====\n",
      "1-> 2-> 6-> 7-> 9-> 3-> 4-> 8-> 5-> "
     ]
    }
   ],
   "source": [
    "from collections import deque\n",
    "\n",
    "\n",
    "def adj_check(node1, node2):\n",
    "    global adj\n",
    "    \n",
    "    # 1.B\n",
    "    adj[node1].append(node2)\n",
    "    \n",
    "    return\n",
    "\n",
    "def bfs(num):\n",
    "    global adj, q, ans, visited\n",
    "\n",
    "    q.append(num)\n",
    "\n",
    "    while len(q) > 0:\n",
    "        cur = q.popleft()\n",
    "        \n",
    "        if not visited[cur]:\n",
    "            ans.append(cur)\n",
    "        \n",
    "        visited[cur] = True\n",
    "\n",
    "        if cur not in adj.keys():\n",
    "            continue\n",
    "\n",
    "        for elem in adj[cur]:\n",
    "            if not visited[elem]:\n",
    "                q.append(elem)\n",
    "                \n",
    "    \n",
    "def ans_print():\n",
    "    global ans\n",
    "\n",
    "    while ans:\n",
    "        print(\"{}->\".format(ans.popleft()), end= \" \")\n",
    "        \n",
    "    return\n",
    "\n",
    "\n",
    "if __name__ == '__main__':\n",
    "    visited = [False for _ in range(11)]    # 2.A\n",
    "    adj = {}\n",
    "    q = deque()\n",
    "    ans = deque()\n",
    "    \n",
    "    for i in range(11):\n",
    "        adj[i+1] = []\n",
    "        \n",
    "    adj_check(1,2)\n",
    "    adj_check(1,6)\n",
    "    adj_check(1,7)\n",
    "    adj_check(1,9)\n",
    "    \n",
    "    adj_check(2, 3)\n",
    "    adj_check(2, 4)\n",
    "    \n",
    "    adj_check(6, 4)\n",
    "    adj_check(4, 5)\n",
    "    \n",
    "    adj_check(7, 8)\n",
    "\n",
    "    print(\"====bfs====\")\n",
    "    bfs(1)\n",
    "    ans_print()"
   ]
  },
  {
   "cell_type": "markdown",
   "id": "90d6e688",
   "metadata": {},
   "source": [
    "## Dijkstra\n",
    "---\n",
    "### 0. result array\n",
    "- dp, result, cost, time, dist = []\n",
    "- Minimum cost (time_ from starting point to visiting the ith node\n",
    "---\n",
    "- Initialize\n",
    "    - Initial state = Infinite (INF)\n",
    "    - 1. to avoid the result with INF\n",
    "    - 2. express a path that cannot be reached to any point as INF"
   ]
  },
  {
   "cell_type": "code",
   "execution_count": 28,
   "id": "24b687e7",
   "metadata": {},
   "outputs": [
    {
     "data": {
      "text/plain": [
       "[1000000000,\n",
       " 1000000000,\n",
       " 1000000000,\n",
       " 1000000000,\n",
       " 1000000000,\n",
       " 1000000000,\n",
       " 1000000000,\n",
       " 1000000000,\n",
       " 1000000000,\n",
       " 1000000000]"
      ]
     },
     "execution_count": 28,
     "metadata": {},
     "output_type": "execute_result"
    }
   ],
   "source": [
    "INF = int(1e9)\n",
    "\n",
    "time = [INF for _ in range(10)]\n",
    "\n",
    "time"
   ]
  },
  {
   "cell_type": "markdown",
   "id": "bf20aef7",
   "metadata": {},
   "source": [
    "---\n",
    "### 1. Priority Queue\n",
    "- prioritize data in the queue, according to the given priority\n",
    "---\n",
    "- heap \n",
    " - 1. heapq.heappush(location, data)\n",
    "    - append 'data' at 'location'\n",
    "\n",
    " - 2. heapq.heappop(loaction)\n",
    "     - automatically delete the minimum value"
   ]
  },
  {
   "cell_type": "code",
   "execution_count": 27,
   "id": "550a0194",
   "metadata": {},
   "outputs": [
    {
     "name": "stdout",
     "output_type": "stream",
     "text": [
      "1\n",
      "3\n",
      "51\n",
      "79\n",
      "100\n"
     ]
    }
   ],
   "source": [
    "import heapq\n",
    "heap = []\n",
    "\n",
    "# heap = [1,100,3, 79, 51]\n",
    "heapq.heappush(heap, 1)\n",
    "heapq.heappush(heap, 100)\n",
    "heapq.heappush(heap, 3)\n",
    "heapq.heappush(heap, 79)\n",
    "heapq.heappush(heap, 51)\n",
    "\n",
    "for _ in range(5):\n",
    "    print(heapq.heappop(heap))"
   ]
  },
  {
   "cell_type": "markdown",
   "id": "ace076dd",
   "metadata": {},
   "source": [
    "### 2. Adjacency list\n",
    "- dictionary \n",
    "    - key: node, value = list\n",
    "    - adj = {node1: [(weight, connected node)]}\n",
    "    - key = immuatable, value = mutable\n",
    "    \n",
    "- (weight, connected weight)\n",
    "    - update the weight infromation\n",
    "    - Use the priority queue to explore where there is less weight\n",
    "    - Purpose: find shortest distance and minimum cost\n",
    "    \n",
    "- Why weight is located in front of node\n",
    "    - In the case of paired data, sort and prioritize based on the data located in the front"
   ]
  },
  {
   "cell_type": "code",
   "execution_count": 26,
   "id": "728d10ff",
   "metadata": {},
   "outputs": [],
   "source": [
    "def adj_check(node1, node2, weight):\n",
    "    global adj\n",
    "    \n",
    "    adj[node1].append((weight, node2))\n",
    "    return"
   ]
  },
  {
   "cell_type": "code",
   "execution_count": 25,
   "id": "63b4435d",
   "metadata": {},
   "outputs": [
    {
     "data": {
      "text/plain": [
       "{1: [(10, 2), (20, 3), (50, 4)],\n",
       " 2: [(7, 3), (30, 4)],\n",
       " 3: [(8, 2), (60, 4), (43, 5)],\n",
       " 4: [(15, 5)],\n",
       " 5: [],\n",
       " 6: [],\n",
       " 7: [],\n",
       " 8: [],\n",
       " 9: [],\n",
       " 10: []}"
      ]
     },
     "execution_count": 25,
     "metadata": {},
     "output_type": "execute_result"
    }
   ],
   "source": [
    "adj = {}    # adjacency list\n",
    "\n",
    "for i in range(10):\n",
    "    adj[i+1] = []\n",
    "    \n",
    "adj_check(1, 2, 10)\n",
    "adj_check(1, 3, 20)\n",
    "adj_check(1, 4, 50)\n",
    "\n",
    "adj_check(2, 3, 7)\n",
    "adj_check(2, 4, 30)\n",
    "\n",
    "adj_check(3, 2, 8)\n",
    "adj_check(3, 4, 60)\n",
    "adj_check(3, 5, 43)\n",
    "\n",
    "adj_check(4, 5, 15)\n",
    "\n",
    "adj"
   ]
  },
  {
   "cell_type": "markdown",
   "id": "b3c4258d",
   "metadata": {},
   "source": [
    "### 3. Search\n",
    "#### A. No visited array\n",
    "\n",
    "- several ways to visit one node (vertex)\n",
    "---\n",
    "#### B. The way calculate time\n",
    "\n",
    "- A-->B\n",
    "- Time taken from point of departure to Node B\n",
    "    - Time taken from point of departure to Node A + Time taken from point of Node A to Node B\n",
    "\n",
    "- (start ~ B) = (start ~ A) + (A ~ B)\n",
    "---\n",
    "#### C. Optimization\n",
    "- A-->B\n",
    "\n",
    "- if the route from start to node B is disclosed,\n",
    "- and the time required for the route is less than the the time taken from Node A to Node B\n",
    "- path from A to B is not worth exploring\n",
    "    \n",
    "    \n",
    "- Because of the optimization process, we explore path which has less weight with Priority queue\n",
    "---\n",
    "#### D. Information update 방식\n",
    "- A-->B\n",
    "- current path = start -> A -> B\n",
    "    - (start ~ B) = (start ~ A) + (A ~ B)\n",
    "         \n",
    "         \n",
    "- compare the current path (start ~ A ~ B) to result[B], which has been maintained to the minimum\n",
    "    - result[B] is not the current path (start ~ A ~ B) but the result of other route\n",
    "        \n",
    "        \n",
    "- if current route < result[B], update the information"
   ]
  },
  {
   "cell_type": "code",
   "execution_count": 24,
   "id": "e17b36cd",
   "metadata": {},
   "outputs": [],
   "source": [
    "def dijkstra(start):\n",
    "    global time, heap, adj\n",
    "    \n",
    "    time[start] = 0\n",
    "    heapq.heappush(heap, (0, start))\n",
    "    \n",
    "    while heap:\n",
    "        cur_w, cur_node = heapq.heappop(heap)\n",
    "        \n",
    "        # optimization\n",
    "        if time[cur_node] < cur_w:\n",
    "            continue\n",
    "        \n",
    "        # search all nodes adjacent to current node\n",
    "        for edge in adj[cur_node]:\n",
    "            next_w, next_node = edge\n",
    "            # (start ~ next_node) = (start ~ cur_node) + (cur_node + next_node)\n",
    "            new_result = cur_w + next_w\n",
    "            \n",
    "            # infomration update \n",
    "            # if current route is faster or cheaper than the known infomation\n",
    "            if new_result < time[next_node]:\n",
    "                time[next_node] = new_result\n",
    "                heapq.heappush(heap, (new_result, next_node))"
   ]
  },
  {
   "cell_type": "code",
   "execution_count": 23,
   "id": "0ffc5ed0",
   "metadata": {},
   "outputs": [],
   "source": [
    "def dijkstra(start):\n",
    "    global time, heap, adj\n",
    "    \n",
    "    time[start] = 0\n",
    "    heapq.heappush(heap, (0, start))\n",
    "    \n",
    "    while heap:\n",
    "        cur_w, cur_node = heapq.heappop(heap)\n",
    "        \n",
    "        if time[cur_node] < cur_w:\n",
    "            continue\n",
    "        \n",
    "        for edge in adj[cur_node]:\n",
    "            next_w, next_node = edge\n",
    "            new_result = cur_w + next_w\n",
    "            \n",
    "            if new_result < time[next_node]:\n",
    "                time[next_node] = new_result\n",
    "                heapq.heappush(heap, (new_result, next_node))"
   ]
  },
  {
   "cell_type": "code",
   "execution_count": 22,
   "id": "9f7a541f",
   "metadata": {},
   "outputs": [
    {
     "name": "stdout",
     "output_type": "stream",
     "text": [
      "1 : 0\n",
      "2 : 10\n",
      "3 : 17\n",
      "4 : 40\n",
      "5 : 55\n"
     ]
    }
   ],
   "source": [
    "import heapq\n",
    "\n",
    "\n",
    "def adj_check(u, v, w):\n",
    "    global adj\n",
    "    adj[u].append((w, v))\n",
    "\n",
    "    \n",
    "def dijkstra(start):\n",
    "    global time, heap, adj\n",
    "\n",
    "    time[start] = 0\n",
    "    heapq.heappush(heap, (0, start))\n",
    "\n",
    "    while heap:\n",
    "        cur_w, cur_node = heapq.heappop(heap)\n",
    "\n",
    "        # do not search unnecessary node\n",
    "        if time[cur_node] < cur_w:\n",
    "            continue\n",
    "\n",
    "        # search all nodes which are connected to the current node\n",
    "        for edge in adj[cur_node]:\n",
    "            # edge = (weight, node)\n",
    "            next_w, next_node = edge\n",
    "            next_w += cur_w\n",
    "            # if the cost of new route is lower than that of current\n",
    "            if next_w < time[next_node]:\n",
    "                # update information\n",
    "                time[next_node] = next_w\n",
    "                heapq.heappush(heap, (next_w, next_node))\n",
    "\n",
    "\n",
    "if __name__ == '__main__':\n",
    "    INF = int(1e9)\n",
    "\n",
    "    # The minimum cost to the ith node is time[i]\n",
    "    time = [INF for _ in range(10)]\n",
    "\n",
    "    heap = []   # Priority Queue\n",
    "    adj = {}    # adjacency list\n",
    "\n",
    "    for i in range(10):\n",
    "        adj[i+1] = []\n",
    "\n",
    "    # adj(node1, node2, weight)\n",
    "    # the route from node1 to node2 takes as much time as weight\n",
    "    adj_check(1, 2, 10)\n",
    "    adj_check(1, 3, 20)\n",
    "    adj_check(1, 4, 50)\n",
    "\n",
    "    adj_check(2, 3, 7)\n",
    "    adj_check(2, 4, 30)\n",
    "\n",
    "    adj_check(3, 2, 8)\n",
    "    adj_check(3, 4, 60)\n",
    "    adj_check(3, 5, 43)\n",
    "\n",
    "    adj_check(4, 5, 15)\n",
    "    \n",
    "    dijkstra(1)\n",
    "\n",
    "    for i in range(1, 6):\n",
    "        print(\"{} : {}\".format(i, time[i]))"
   ]
  }
 ],
 "metadata": {
  "kernelspec": {
   "display_name": "Python 3 (ipykernel)",
   "language": "python",
   "name": "python3"
  },
  "language_info": {
   "codemirror_mode": {
    "name": "ipython",
    "version": 3
   },
   "file_extension": ".py",
   "mimetype": "text/x-python",
   "name": "python",
   "nbconvert_exporter": "python",
   "pygments_lexer": "ipython3",
   "version": "3.9.12"
  }
 },
 "nbformat": 4,
 "nbformat_minor": 5
}
